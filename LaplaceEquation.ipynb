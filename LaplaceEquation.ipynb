{
  "nbformat": 4,
  "nbformat_minor": 0,
  "metadata": {
    "colab": {
      "name": "LaplaceEquation.ipynb",
      "provenance": [],
      "collapsed_sections": [],
      "authorship_tag": "ABX9TyNqx+rL+v4iXOwrnWyhcED3",
      "include_colab_link": true
    },
    "kernelspec": {
      "name": "python3",
      "display_name": "Python 3"
    },
    "language_info": {
      "name": "python"
    }
  },
  "cells": [
    {
      "cell_type": "markdown",
      "metadata": {
        "id": "view-in-github",
        "colab_type": "text"
      },
      "source": [
        "<a href=\"https://colab.research.google.com/github/eddoming/NoteBooksScience/blob/main/LaplaceEquation.ipynb\" target=\"_parent\"><img src=\"https://colab.research.google.com/assets/colab-badge.svg\" alt=\"Open In Colab\"/></a>"
      ]
    },
    {
      "cell_type": "code",
      "metadata": {
        "id": "nAnwCZ5WQQuB"
      },
      "source": [
        ""
      ],
      "execution_count": null,
      "outputs": []
    },
    {
      "cell_type": "markdown",
      "metadata": {
        "id": "e7kl8_LIQnAF"
      },
      "source": [
        "# Ecuación de Laplace.\n",
        "\n",
        "<h2><center>$\\nabla^2\\Psi=0$.</center></h2>\n",
        "\n",
        "Propiedades de la ecuación de laplace:\n",
        "\n",
        "\n",
        "*   La ec. es lineal, entonces si $\\Psi_1,\\Psi_2,...,\\Psi_n$ son soluciones,\n",
        "$$\\Psi=\\sum_{\\mu=0}^{\\infty}C_n\\Psi_n,$$\n",
        "es tambien solución.\n",
        "*   Si $\\Psi(\\overrightarrow{r})$ es solución entonces,\n",
        "$$ \\langle \\Psi \\rangle r(\\overrightarrow{r_{0}})=\\Psi(\\overrightarrow{r_{0}}),$$\n",
        "el promedio de la función en la vecindad de un punto coincide con el valor de la funcion en el punto.\n",
        "* Si $\\Psi(\\overrightarrow{r})$ es solución en una region de R, entonces $\\Psi(\\overrightarrow{r})$ no tiene maximos ni minimos en mas R. \n",
        "\n",
        "Es decir, los valores extremos los toma en la frontera de R. Esto es consecuencia del punto anterior ya que si hay un minimo (o maximo) en R, entonces en la vecindad del punto, el promedio de la función es mayor (o menor) que el valor de la función en tal punto, esto contradice la propiedad anterior.\n",
        "\n",
        "* La solución de la ecuación de Laplace que sattisface las condiciones en la frontera es unica.\n",
        "\n",
        "Supongamos que $\\Psi_1$ y $\\Psi_2$ son soluciones de la ecuación de Laplace que satisfacen las condiciones de frontera, contruimos $\\Psi_D=\\Psi_1-\\Psi_2$. $\\Psi_D$ es solución a la ecuación de Laplace. Pero satisiface las condiciones en la forntera:\n",
        "$$ \\Psi_D \\underset{f}{|}=0,$$\n",
        "\n",
        "como $\\Psi_D$ tiene sus extremos en la frontera, entonces en la frontera se cumple que $\\Psi_D=0$, y por lo tanto:\n",
        "$$\\Psi_1=\\Psi_2, $$\n",
        "concluyendo que la solución es unica.\n",
        "\n",
        "\n",
        "\n",
        "\n",
        "\n",
        "\n",
        "\n"
      ]
    },
    {
      "cell_type": "markdown",
      "metadata": {
        "id": "axBprlab0s6A"
      },
      "source": [
        "# Ecuación de Laplace en Coordenadas cartesianas\n",
        "La ecuación de Laplace:\n",
        "$$\\nabla^2 \\Psi(x,y,z)=\\frac{\\partial \\Psi}{\\partial x}+\\frac{\\partial \\Psi}{\\partial y}+\\frac{\\partial \\Psi}{\\partial z}=0,$$\n",
        "proponemos solucion que cumpla sus propiedades:\n",
        "$$\\Psi(x,y,z)=F(x)G(y)H(z),$$\n",
        "sustituimos en la ecuación de Laplace,\n",
        "$$G(y)H(z)\\frac{\\partial F(x)}{\\partial x}+F(x)H(z)\\frac{\\partial G(y)}{\\partial y}+F(x)G(y)\\frac{\\partial H(z)}{\\partial z}=0,$$\n",
        "dividimos sobre la solución propuesta (F(x)G(y)H(z)) para separar las variables,\n",
        "$$\\frac{1}{F(x)}\\frac{\\partial F(x)}{\\partial x}+\\frac{1}{G(y)}\\frac{\\partial G(y)}{\\partial y}+\\frac{1}{H(z)} \\frac{\\partial H(z)}{\\partial z}=0,$$\n",
        "ahora si podemos separar para cada variable como:\n",
        "$$\\frac{1}{F(x)}\\frac{\\partial F(x)}{\\partial x}=-q^2,$$\n",
        "$$\\frac{1}{G(y)}\\frac{\\partial G(y)}{\\partial y}=-p^2,$$\n",
        "$$\\frac{1}{G(z)}\\frac{\\partial G(z)}{\\partial z}=q^2+p^2.$$\n",
        "Las constantes $p$ y $q$ (constantes de separación) son arbritarias\n",
        "\n",
        "# 1) Caso $p=0, q=0$\n",
        "obtenemos el siguiente sistema de ecuaciones:\n",
        "$$\\frac{\\partial F(x)}{\\partial x}=0,\\quad  F(x)=a_1x+b_1$$\n",
        "$$\\frac{\\partial G(y)}{\\partial y}=0,\\quad  G(y)=a_2x+b_2$$\n",
        "$$\\frac{\\partial G(z)}{\\partial z}=0,\\quad  H(z)=a_3x+b_3$$\n",
        "\n",
        "# 2) Caso $p \\neq 0, q \\neq 0$\n",
        "obtenemos el siguiente sistema de ecuaciones:\n",
        "$$\\frac{\\partial F(x)}{\\partial x}=-q^2F(x),\\quad  F(x)=a_1Sen(qx)+b_1Cos(qx)$$\n",
        "$$\\frac{\\partial G(y)}{\\partial y}=-p^2G(y),\\quad  G(y)=a_2Sen(py)+b_2Sen(py)$$\n",
        "$$\\frac{\\partial G(z)}{\\partial z}=(p^2+q^2)H(z),\\quad  H(z)=a_3e^{(p^2+q^2)^{\\frac{1}{2}}z}+b_3e^{-(p^2+q^2)^{\\frac{1}{2}}z}$$"
      ]
    },
    {
      "cell_type": "markdown",
      "metadata": {
        "id": "mCs4KzNR7JAb"
      },
      "source": [
        "# Problema propuesto para (Caso 2)\n",
        "Un Tuvo cuadrado semi-infinito de lado a y b, se encuentra a un potencial igual a cero ($\\Phi=0$), excepto la base del tuvo, esta tiene una distribucion de potencial $\\Phi_{0}(x,y)$. Se desea encontrar el potencial dentro del tuvo.\n",
        "\n",
        "* Tip: Plantea las condiciones en la frontera.\n",
        "\n",
        "<center>\n",
        "<img src=\"https://github.com/eddoming/Test-Bash/blob/readme-edits/Semi_infinito.png?raw=1\" width=\"500\"> \n",
        "</center>\n",
        "\n",
        "* Solución:\n",
        "$$ \\Phi(x,y,z)=\\sum_{n=1,3,5}\\sum_{m=1,3,5} \\frac{16 \\Phi_0}{mn\\pi^2}Sen(\\frac{n\\pi}{a}x)Sen(\\frac{n\\pi}{b}y) e^{-(\\frac{n^2}{a^2}+\\frac{m^2}{b^2})^{\\frac{1}{2}}z}, \\quad z> 0$$\n"
      ]
    },
    {
      "cell_type": "code",
      "metadata": {
        "id": "4S4Xbq-VUlvd"
      },
      "source": [
        ""
      ],
      "execution_count": null,
      "outputs": []
    },
    {
      "cell_type": "markdown",
      "metadata": {
        "id": "oXIdJSpuibnV"
      },
      "source": [
        "# Solución completa:\n",
        "Comenzamos planteando las condiciones de frontera;\n",
        "\n",
        "* $\\Phi(x,0,z)=\\Phi(0,y,z)=\\Phi(a,y,z)=\\Phi(x,b,z)=0$\n",
        "* $\\Phi(x,y,0)=\\Phi_{0}(x,y)$\n",
        "* $\\Phi(x,y,z)\\rightarrow 0$ with $z\\rightarrow \\infty$\n",
        "\n",
        "Usamos la solución completa y empezamos a evaluar condición por condición  para deterimnar las constantes:\n",
        "* $\\Psi(x,y,z)=\\sum_{p}\\sum_{q}(a_1Sen(px)+b_1Cos(px))(a_2Sen(qy)+b_2Cos(qy))(a_3e^{(p^2+q^2)^{1/2}z}+b_3e^{-(p^2+q^2)^{1/2}z})$\n",
        "\n",
        "Aplicamos la condicion de limite en $\\Phi(x,y,z)\\rightarrow 0$ with $z\\rightarrow \\infty$.\n",
        "* $a_3e^{(p^2+q^2)^{1/2}z}+b_3e^{-(p^2+q^2)^{1/2}z}=0,\\quad z\\rightarrow \\infty$\n",
        "el segundo termino tiene a cero, pero el primero va a infinito, para ello debemos definir $a_3=0$\n",
        "\n",
        "Continuamos con condicion $\\Phi(x,0,z)=0$; encontramos que:\n",
        "* $a_2Sen(0)+b_2Cos(0)=0 \\rightarrow b_2=0$\n",
        "\n",
        "\n",
        "\n",
        "\n"
      ]
    },
    {
      "cell_type": "code",
      "metadata": {
        "id": "ursW1yjeAd-z"
      },
      "source": [
        ""
      ],
      "execution_count": null,
      "outputs": []
    }
  ]
}